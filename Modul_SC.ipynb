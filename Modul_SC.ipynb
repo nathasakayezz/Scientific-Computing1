{
  "nbformat": 4,
  "nbformat_minor": 0,
  "metadata": {
    "colab": {
      "provenance": [],
      "toc_visible": true,
      "include_colab_link": true
    },
    "kernelspec": {
      "name": "python3",
      "display_name": "Python 3"
    },
    "language_info": {
      "name": "python"
    }
  },
  "cells": [
    {
      "cell_type": "markdown",
      "metadata": {
        "id": "view-in-github",
        "colab_type": "text"
      },
      "source": [
        "<a href=\"https://colab.research.google.com/github/nathasakayezz/Scientific-Computing1/blob/main/Modul_SC.ipynb\" target=\"_parent\"><img src=\"https://colab.research.google.com/assets/colab-badge.svg\" alt=\"Open In Colab\"/></a>"
      ]
    },
    {
      "cell_type": "markdown",
      "source": [
        "# Bisection"
      ],
      "metadata": {
        "id": "2rHhY5jQa38h"
      }
    },
    {
      "cell_type": "code",
      "execution_count": 1,
      "metadata": {
        "id": "H9yLJqigFRbG"
      },
      "outputs": [],
      "source": [
        "import numpy as np\n",
        "\n",
        "def my_bisection(f, a, b, tol):\n",
        "\n",
        "  if np.sign(f(a)) == np.sign(f(b)):\n",
        "    raise Exception(\n",
        "        \"the scalars a and b do not bound a root\"\n",
        "    )\n",
        "\n",
        "  # buat mid poin / nilai tengah\n",
        "  m = (a+b)/2\n",
        "\n",
        "  if np.abs (f(m)) < tol:\n",
        "    return m\n",
        "  elif np.sign (f(a)) == np.sign(f(m)):\n",
        "    return my_bisection (f, m, b, tol)\n",
        "    # a diganti m agar kebagi 2\n",
        "  elif np.sign (f(b)) == np.sign(f(m)) :\n",
        "    return my_bisection (f, a, m, tol)\n"
      ]
    },
    {
      "cell_type": "markdown",
      "source": [
        "SOAL 1"
      ],
      "metadata": {
        "id": "H7y2R3J8T1PU"
      }
    },
    {
      "cell_type": "code",
      "source": [
        "f = lambda x: x**3 - 3 *x**2 + 2*x\n",
        "\n",
        "r1 = my_bisection (f, 1.1, 2, 0.01)\n",
        "print(\"r1 =\", r1)\n",
        "r01 = my_bisection(f, 1.1, 2, 0.01)\n",
        "print (\"r01 = \", r01)\n",
        "\n",
        "print (\"f(r1) = \", f(r1))\n",
        "print (\"f(r01) = \", f(r01))"
      ],
      "metadata": {
        "colab": {
          "base_uri": "https://localhost:8080/"
        },
        "id": "kQea4TdtT4u0",
        "outputId": "9cc2184e-011d-47b9-ab7e-60d58fc37b22"
      },
      "execution_count": 2,
      "outputs": [
        {
          "output_type": "stream",
          "name": "stdout",
          "text": [
            "r1 = 1.996484375\n",
            "r01 =  1.996484375\n",
            "f(r1) =  -0.006994214594365111\n",
            "f(r01) =  -0.006994214594365111\n"
          ]
        }
      ]
    },
    {
      "cell_type": "markdown",
      "source": [
        "SOAL 2"
      ],
      "metadata": {
        "id": "uxig6xiiVySg"
      }
    },
    {
      "cell_type": "code",
      "source": [
        "f = lambda x: np.sin (x) - x\n",
        "\n",
        "r1 = my_bisection (f, 0, 1, 0.001)\n",
        "print(\"r1 =\", r1)\n",
        "r01 = my_bisection(f, 0, 1, 0.01)\n",
        "print (\"r01 = \", r01)\n",
        "\n",
        "print (\"f(r1) = \", f(r1))\n",
        "print (\"f(r01) = \", f(r01))"
      ],
      "metadata": {
        "colab": {
          "base_uri": "https://localhost:8080/"
        },
        "id": "F9gkW4gMVlzB",
        "outputId": "d9ef2a49-68ae-4316-f35a-c3649a6bd9fc"
      },
      "execution_count": 3,
      "outputs": [
        {
          "output_type": "stream",
          "name": "stdout",
          "text": [
            "r1 = 0.125\n",
            "r01 =  0.25\n",
            "f(r1) =  -0.0003252666147723071\n",
            "f(r01) =  -0.002596040745477063\n"
          ]
        }
      ]
    },
    {
      "cell_type": "code",
      "source": [
        "def my_newton (f, df, x0, tol):\n",
        "  if abs (f(x0)) < tol:\n",
        "    return x0\n",
        "  else :\n",
        "    return my_newton(f, df, x0 - f(x0)/df(x0), tol)"
      ],
      "metadata": {
        "id": "4smECpC_JNZn"
      },
      "execution_count": 4,
      "outputs": []
    },
    {
      "cell_type": "markdown",
      "source": [
        "# Newton"
      ],
      "metadata": {
        "id": "Z7ADo7uKayvb"
      }
    },
    {
      "cell_type": "markdown",
      "source": [
        "SOAL 1"
      ],
      "metadata": {
        "id": "idECJrfoWHyf"
      }
    },
    {
      "cell_type": "code",
      "source": [
        "import numpy as np\n",
        "\n",
        "f = lambda x: x**3 - 3*x**2 + 2*x\n",
        "f_prime = lambda x: 3*x**2 - 6*x + 2 #turunan dari f(x)\n",
        "newton_raphson = 1.5 - (f(1.5) / (f_prime (1.5))) #1,5 = x0\n",
        "\n",
        "print (\"newton_raphson = \", newton_raphson)\n",
        "print (\"sqrt(2) = \", np.sqrt(2))"
      ],
      "metadata": {
        "colab": {
          "base_uri": "https://localhost:8080/"
        },
        "id": "uyEsNRUkWJZ7",
        "outputId": "f56699f4-24a3-40b4-878f-09ea4f10c46d"
      },
      "execution_count": 6,
      "outputs": [
        {
          "output_type": "stream",
          "name": "stdout",
          "text": [
            "newton_raphson =  0.0\n",
            "sqrt(2) =  1.4142135623730951\n"
          ]
        }
      ]
    },
    {
      "cell_type": "code",
      "source": [
        "def my_newton (f, df, x0, tol):\n",
        "  if abs (f(x0)) < tol:\n",
        "    return x0\n",
        "  else :\n",
        "    return my_newton(f, df, x0 - f(x0)/df(x0), tol)"
      ],
      "metadata": {
        "id": "NhAhBpTUXp8f"
      },
      "execution_count": 7,
      "outputs": []
    },
    {
      "cell_type": "code",
      "source": [
        "estimate = my_newton (f, f_prime, 1.5, 0.01)\n",
        "print (\"estimate = \", estimate)\n",
        "print (\"sqrt(2) = \", np.sqrt(2))"
      ],
      "metadata": {
        "colab": {
          "base_uri": "https://localhost:8080/"
        },
        "id": "SBXsSKB_XrDr",
        "outputId": "4cd67954-bc46-4cc5-dfba-2099a62e67c5"
      },
      "execution_count": 8,
      "outputs": [
        {
          "output_type": "stream",
          "name": "stdout",
          "text": [
            "estimate =  0.0\n",
            "sqrt(2) =  1.4142135623730951\n"
          ]
        }
      ]
    },
    {
      "cell_type": "markdown",
      "source": [
        "SOAL 2"
      ],
      "metadata": {
        "id": "r7mE9z_IYLK-"
      }
    },
    {
      "cell_type": "code",
      "source": [
        "import numpy as np\n",
        "\n",
        "f = lambda x: np.exp(x) - 2*x\n",
        "f_prime = lambda x: np.exp(x) - 2 #turunan dari f(x)\n",
        "newton_raphson = 1 - (f(1) / (f_prime (1))) #1,5 = x0\n",
        "\n",
        "print (\"newton_raphson = \", newton_raphson)\n",
        "print (\"sqrt(2) = \", np.sqrt(2))"
      ],
      "metadata": {
        "colab": {
          "base_uri": "https://localhost:8080/"
        },
        "id": "jjTbbL5EYNKd",
        "outputId": "60166e99-cfe7-441d-c705-6602be7361c7"
      },
      "execution_count": 9,
      "outputs": [
        {
          "output_type": "stream",
          "name": "stdout",
          "text": [
            "newton_raphson =  0.0\n",
            "sqrt(2) =  1.4142135623730951\n"
          ]
        }
      ]
    }
  ]
}