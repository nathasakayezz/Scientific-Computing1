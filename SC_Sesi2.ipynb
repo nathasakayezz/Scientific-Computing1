{
  "nbformat": 4,
  "nbformat_minor": 0,
  "metadata": {
    "colab": {
      "provenance": [],
      "toc_visible": true,
      "authorship_tag": "ABX9TyP40HhGIodpZezZpTeS7o2r",
      "include_colab_link": true
    },
    "kernelspec": {
      "name": "python3",
      "display_name": "Python 3"
    },
    "language_info": {
      "name": "python"
    }
  },
  "cells": [
    {
      "cell_type": "markdown",
      "metadata": {
        "id": "view-in-github",
        "colab_type": "text"
      },
      "source": [
        "<a href=\"https://colab.research.google.com/github/nathasakayezz/Scientific-Computing1/blob/main/SC_Sesi2.ipynb\" target=\"_parent\"><img src=\"https://colab.research.google.com/assets/colab-badge.svg\" alt=\"Open In Colab\"/></a>"
      ]
    },
    {
      "cell_type": "markdown",
      "source": [
        "# Pertemuan 1"
      ],
      "metadata": {
        "id": "0o6yqLOJxNs9"
      }
    },
    {
      "cell_type": "markdown",
      "source": [
        "## Materi - Pengenalan Python"
      ],
      "metadata": {
        "id": "_XszaA7kyT7G"
      }
    },
    {
      "cell_type": "code",
      "execution_count": null,
      "metadata": {
        "colab": {
          "base_uri": "https://localhost:8080/"
        },
        "id": "tmCzyHn3i_D_",
        "outputId": "40c9cd57-6f6e-4f59-b864-efb35165b22a"
      },
      "outputs": [
        {
          "output_type": "stream",
          "name": "stdout",
          "text": [
            "haloo\n"
          ]
        }
      ],
      "source": [
        "print (\"haloo\")"
      ]
    },
    {
      "cell_type": "code",
      "source": [
        "#mengakses library time dengan syntax import + nama library\n",
        "\n",
        "import time"
      ],
      "metadata": {
        "id": "WkshbGSmjlUn"
      },
      "execution_count": null,
      "outputs": []
    },
    {
      "cell_type": "code",
      "source": [
        "print(time.ctime())"
      ],
      "metadata": {
        "colab": {
          "base_uri": "https://localhost:8080/"
        },
        "id": "wuOGz_NYj6JP",
        "outputId": "3f6ae1f2-6af5-4bd0-d022-d8b82a081561"
      },
      "execution_count": null,
      "outputs": [
        {
          "output_type": "stream",
          "name": "stdout",
          "text": [
            "Thu Feb  6 15:00:03 2025\n"
          ]
        }
      ]
    },
    {
      "cell_type": "code",
      "source": [
        "#print bisa dengan langsung menuliskan variabel atau print([variabel])\n",
        "\n",
        "z = \"hello\"\n",
        "y = 20\n",
        "c = 30.8\n",
        "f = [\"apple\", \"berry\"]\n",
        "\n",
        "#print dengan menuliskan langsung variable\n",
        "z, y, c, f\n",
        "\n",
        "#print dengan syntax print(variable1, variable2, variable 3, dst...)\n",
        "print(z, y, c, f)\n",
        "\n",
        "#hasil print yang tanpa syntax dan dengan syntax akan berbeda.\n",
        "#hasil print tanpa syntax = ('hello', 20, 30.8, ['apple', 'berry'])\n",
        "#hasil print dengan syntax = hello 20 30.8 ['apple', 'berry']\n",
        "#program hanya akan melakukan print satu kali saja meskipun terdapat 2 kali penulisan menggunakan syntax dan tanpa syntax"
      ],
      "metadata": {
        "colab": {
          "base_uri": "https://localhost:8080/"
        },
        "id": "bozicMeVkTZ8",
        "outputId": "6abc44d7-a24b-4917-98cf-6c3352c5ab3e"
      },
      "execution_count": null,
      "outputs": [
        {
          "output_type": "stream",
          "name": "stdout",
          "text": [
            "hello 20 30.8 ['apple', 'berry']\n"
          ]
        }
      ]
    },
    {
      "cell_type": "code",
      "source": [
        "#casting = mengubah tipe data\n",
        "\n",
        "#1 = integer, casting menjadi float\n",
        "o = float(1)\n",
        "#2.8 = float, casting menjadi integer\n",
        "y = int(2.8)\n",
        "#\"3\" = char, casting menjadi integer\n",
        "z = int(\"3\")\n",
        "#20 = integer, casting menjadi string\n",
        "j = str(20)\n",
        "\n",
        "print(o, y, z, j)"
      ],
      "metadata": {
        "colab": {
          "base_uri": "https://localhost:8080/"
        },
        "id": "G0dvRcoclFZG",
        "outputId": "394287e8-4e2b-457e-e75a-e105978b9b23"
      },
      "execution_count": null,
      "outputs": [
        {
          "output_type": "stream",
          "name": "stdout",
          "text": [
            "1.0 2 3 20\n"
          ]
        }
      ]
    },
    {
      "cell_type": "code",
      "source": [
        "#menggabungkan 2 string\n",
        "\n",
        "a = \"HELLO\"\n",
        "b = \"world\"\n",
        "c = a+b\n",
        "\n",
        "print(c)"
      ],
      "metadata": {
        "colab": {
          "base_uri": "https://localhost:8080/"
        },
        "id": "8hfFKO45l0Fa",
        "outputId": "a16ea4de-60ff-493c-ac51-3f3db95019c4"
      },
      "execution_count": null,
      "outputs": [
        {
          "output_type": "stream",
          "name": "stdout",
          "text": [
            "HELLOworld\n"
          ]
        }
      ]
    },
    {
      "cell_type": "code",
      "source": [
        "#mengambil 1 huruf menggunakan index (array of)\n",
        "#menghitung total array\n",
        "\n",
        "a = \"Hello World\"\n",
        "print(a[1])\n",
        "\n",
        "print(len(a))"
      ],
      "metadata": {
        "colab": {
          "base_uri": "https://localhost:8080/"
        },
        "id": "4lQ7p7IzmDGd",
        "outputId": "e64aad98-9281-46b5-b3e0-88cc76a8447c"
      },
      "execution_count": null,
      "outputs": [
        {
          "output_type": "stream",
          "name": "stdout",
          "text": [
            "e\n",
            "11\n"
          ]
        }
      ]
    },
    {
      "cell_type": "code",
      "source": [
        "#mengambil beberapa huruf menggunakan index (array of)\n",
        "#dengan cara print(variable[batas awal : batas akhir])\n",
        "\n",
        "b = \"BINUS Univ\"\n",
        "print(b[2:5])\n",
        "\n",
        "c = \"BINUS Univ\"\n",
        "print(b[:5])\n",
        "\n",
        "d = \"BINUS Univ\"\n",
        "print(b[2:])"
      ],
      "metadata": {
        "colab": {
          "base_uri": "https://localhost:8080/"
        },
        "id": "uyZNwFV4mvYe",
        "outputId": "1564c919-677c-497c-bb98-f4347546246b"
      },
      "execution_count": null,
      "outputs": [
        {
          "output_type": "stream",
          "name": "stdout",
          "text": [
            "NUS\n",
            "BINUS\n",
            "NUS Univ\n"
          ]
        }
      ]
    },
    {
      "cell_type": "code",
      "source": [
        "#mengubah semua huruf kecil menjadi huruf besar\n",
        "a = \"Hello\"\n",
        "print(a.upper())\n",
        "\n",
        "#mengubah semua huruf besar menjadi huruf kecil\n",
        "b = \"Hello\"\n",
        "print(b.lower())\n",
        "\n",
        "#mengganti satu huruf\n",
        "c = \"Hello\"\n",
        "print(a.replace(\"H\", \"J\"))"
      ],
      "metadata": {
        "colab": {
          "base_uri": "https://localhost:8080/"
        },
        "id": "3Hwr2-5qmX6X",
        "outputId": "5835f973-1def-4393-a22a-9568ea9a6888"
      },
      "execution_count": null,
      "outputs": [
        {
          "output_type": "stream",
          "name": "stdout",
          "text": [
            "HELLO\n",
            "hello\n",
            "Jello\n"
          ]
        }
      ]
    },
    {
      "cell_type": "code",
      "source": [
        "#print string gabung integer\n",
        "\n",
        "nama = \"Nathasa\"\n",
        "x = 19\n",
        "string = \"nama saya {}, umur saya {}\"\n",
        "\n",
        "print(string.format(nama,x))"
      ],
      "metadata": {
        "colab": {
          "base_uri": "https://localhost:8080/"
        },
        "id": "uxOugoegorD-",
        "outputId": "364341b5-87aa-4d13-96fa-a8961ada7f9c"
      },
      "execution_count": null,
      "outputs": [
        {
          "output_type": "stream",
          "name": "stdout",
          "text": [
            "nama saya Nathasa, umur saya 19\n"
          ]
        }
      ]
    },
    {
      "cell_type": "code",
      "source": [
        "#memberikan penomoran untuk setiap index yang terdapat pada string dengan perulangan for\n",
        "\n",
        "nama = \"Grace\"\n",
        "for i in enumerate(nama):\n",
        "  print(i)"
      ],
      "metadata": {
        "colab": {
          "base_uri": "https://localhost:8080/"
        },
        "id": "7CPFIcP9pJbS",
        "outputId": "df04b5a7-98b3-42a3-9a1b-dd2db550f9c6"
      },
      "execution_count": null,
      "outputs": [
        {
          "output_type": "stream",
          "name": "stdout",
          "text": [
            "(0, 'G')\n",
            "(1, 'r')\n",
            "(2, 'a')\n",
            "(3, 'c')\n",
            "(4, 'e')\n"
          ]
        }
      ]
    },
    {
      "cell_type": "code",
      "source": [
        "#def = membuat function baru\n",
        "\n",
        "def perbandingan (a,b):\n",
        "  #perbandingan (if elif else)\n",
        "  if a>b:\n",
        "    print(\"a lebih dari b\")\n",
        "  elif a<b:\n",
        "    print(\"a kurang dari b\")\n",
        "  else:\n",
        "    print(\"a = b\")"
      ],
      "metadata": {
        "id": "3HZcwdmvpamb"
      },
      "execution_count": null,
      "outputs": []
    },
    {
      "cell_type": "code",
      "source": [
        "#mencoba function perbandingan\n",
        "\n",
        "perbandingan (4,8)"
      ],
      "metadata": {
        "colab": {
          "base_uri": "https://localhost:8080/"
        },
        "id": "KTDV2hGGqIy3",
        "outputId": "2293b425-2c73-4f08-d5e5-016856f25679"
      },
      "execution_count": null,
      "outputs": [
        {
          "output_type": "stream",
          "name": "stdout",
          "text": [
            "a kurang dari b\n"
          ]
        }
      ]
    },
    {
      "cell_type": "code",
      "source": [
        "#perulangan menggunakan while\n",
        "\n",
        "i=1\n",
        "while i<6:\n",
        "  print(i)\n",
        "  i += 1"
      ],
      "metadata": {
        "colab": {
          "base_uri": "https://localhost:8080/"
        },
        "id": "HNyJPv8kq7YJ",
        "outputId": "b680ee91-bf05-4375-aa80-3667872a4b2f"
      },
      "execution_count": null,
      "outputs": [
        {
          "output_type": "stream",
          "name": "stdout",
          "text": [
            "1\n",
            "2\n",
            "3\n",
            "4\n",
            "5\n"
          ]
        }
      ]
    },
    {
      "cell_type": "code",
      "source": [
        "#perulangan menggunakan for\n",
        "\n",
        "i=7\n",
        "for i in range(0,6):\n",
        "  print(i)"
      ],
      "metadata": {
        "colab": {
          "base_uri": "https://localhost:8080/"
        },
        "id": "mc-IYD_LrONj",
        "outputId": "56d03342-57e4-4014-bd77-77fb07c8441a"
      },
      "execution_count": null,
      "outputs": [
        {
          "output_type": "stream",
          "name": "stdout",
          "text": [
            "0\n",
            "1\n",
            "2\n",
            "3\n",
            "4\n",
            "5\n"
          ]
        }
      ]
    },
    {
      "cell_type": "code",
      "source": [
        "i = 2\n",
        "while i<=40:\n",
        "  if i % 2 == 0:\n",
        "    print (i, \"genap\")\n",
        "  elif i % 2 == 1:\n",
        "    print (i, \"ganjil\")\n",
        "  i += 1"
      ],
      "metadata": {
        "colab": {
          "base_uri": "https://localhost:8080/"
        },
        "id": "GtwVZt0krblQ",
        "outputId": "544d164b-15ac-4912-cf5e-e5707bfb625e"
      },
      "execution_count": null,
      "outputs": [
        {
          "output_type": "stream",
          "name": "stdout",
          "text": [
            "2 genap\n",
            "3 ganjil\n",
            "4 genap\n",
            "5 ganjil\n",
            "6 genap\n",
            "7 ganjil\n",
            "8 genap\n",
            "9 ganjil\n",
            "10 genap\n",
            "11 ganjil\n",
            "12 genap\n",
            "13 ganjil\n",
            "14 genap\n",
            "15 ganjil\n",
            "16 genap\n",
            "17 ganjil\n",
            "18 genap\n",
            "19 ganjil\n",
            "20 genap\n",
            "21 ganjil\n",
            "22 genap\n",
            "23 ganjil\n",
            "24 genap\n",
            "25 ganjil\n",
            "26 genap\n",
            "27 ganjil\n",
            "28 genap\n",
            "29 ganjil\n",
            "30 genap\n",
            "31 ganjil\n",
            "32 genap\n",
            "33 ganjil\n",
            "34 genap\n",
            "35 ganjil\n",
            "36 genap\n",
            "37 ganjil\n",
            "38 genap\n",
            "39 ganjil\n",
            "40 genap\n"
          ]
        }
      ]
    },
    {
      "cell_type": "code",
      "source": [
        "for i in range(2,41):\n",
        "  if i % 2 == 0:\n",
        "    print (i, \"genap\")\n",
        "  else:\n",
        "    print (i, \"ganjil\")\n"
      ],
      "metadata": {
        "colab": {
          "base_uri": "https://localhost:8080/"
        },
        "id": "vCymkWp7uXSI",
        "outputId": "ea33f22b-f5bc-48c6-c1cb-798aa95a02f8"
      },
      "execution_count": null,
      "outputs": [
        {
          "output_type": "stream",
          "name": "stdout",
          "text": [
            "2 genap\n",
            "3 ganjil\n",
            "4 genap\n",
            "5 ganjil\n",
            "6 genap\n",
            "7 ganjil\n",
            "8 genap\n",
            "9 ganjil\n",
            "10 genap\n",
            "11 ganjil\n",
            "12 genap\n",
            "13 ganjil\n",
            "14 genap\n",
            "15 ganjil\n",
            "16 genap\n",
            "17 ganjil\n",
            "18 genap\n",
            "19 ganjil\n",
            "20 genap\n",
            "21 ganjil\n",
            "22 genap\n",
            "23 ganjil\n",
            "24 genap\n",
            "25 ganjil\n",
            "26 genap\n",
            "27 ganjil\n",
            "28 genap\n",
            "29 ganjil\n",
            "30 genap\n",
            "31 ganjil\n",
            "32 genap\n",
            "33 ganjil\n",
            "34 genap\n",
            "35 ganjil\n",
            "36 genap\n",
            "37 ganjil\n",
            "38 genap\n",
            "39 ganjil\n",
            "40 genap\n"
          ]
        }
      ]
    },
    {
      "cell_type": "code",
      "source": [
        "#mengakses library numpy, diberikan inisial ny sehingga cukup menuliskan ny untuk mengakses numpy\n",
        "\n",
        "import numpy as np"
      ],
      "metadata": {
        "id": "5gbhDYamu5oJ"
      },
      "execution_count": null,
      "outputs": []
    },
    {
      "cell_type": "code",
      "source": [
        "y = np.array ([[1, 2, 3],\n",
        "        [4, 5, 6]])\n",
        "x = np.array ([[6, 5, 4],\n",
        "               [3, 2, 1]])"
      ],
      "metadata": {
        "id": "LjHa-vfgvxnn"
      },
      "execution_count": null,
      "outputs": []
    },
    {
      "cell_type": "code",
      "source": [
        "x + y"
      ],
      "metadata": {
        "colab": {
          "base_uri": "https://localhost:8080/"
        },
        "id": "kx3ru59Lv8wV",
        "outputId": "725746b7-8145-413a-86c5-a9bf7e6e72df"
      },
      "execution_count": null,
      "outputs": [
        {
          "output_type": "execute_result",
          "data": {
            "text/plain": [
              "array([[7, 7, 7],\n",
              "       [7, 7, 7]])"
            ]
          },
          "metadata": {},
          "execution_count": 26
        }
      ]
    },
    {
      "cell_type": "code",
      "source": [
        "data = np.array ([10, 9, 8, 7, 6, 5])\n",
        "\n",
        "print(\"Rata-rata:\", np.mean(data))\n",
        "print(\"Max:\", np.max(data))\n",
        "print(\"Min:\", np.min(data))\n",
        "print(\"Standar Devisiasi:\", np.std(data))"
      ],
      "metadata": {
        "colab": {
          "base_uri": "https://localhost:8080/"
        },
        "id": "Lq-zaUHrwaM4",
        "outputId": "5c45a814-4f36-45db-8e47-2b386310c2bb"
      },
      "execution_count": null,
      "outputs": [
        {
          "output_type": "stream",
          "name": "stdout",
          "text": [
            "Rata-rata: 7.5\n",
            "Max: 10\n",
            "Min: 5\n",
            "Standar Devisiasi: 1.707825127659933\n"
          ]
        }
      ]
    },
    {
      "cell_type": "markdown",
      "source": [
        "## Tugas Modul - Grading System"
      ],
      "metadata": {
        "id": "yJiBcBdwymnZ"
      }
    },
    {
      "cell_type": "code",
      "source": [
        "x = input(\"Nilai Ujian Akhir Semester: \")\n",
        "print(\"UAS =\", x)"
      ],
      "metadata": {
        "colab": {
          "base_uri": "https://localhost:8080/"
        },
        "id": "uc25Ca0gylo3",
        "outputId": "8f3b5ac6-bd64-45f2-fc28-f312797ab7ab"
      },
      "execution_count": null,
      "outputs": [
        {
          "output_type": "stream",
          "name": "stdout",
          "text": [
            "Nilai Ujian Akhir Semester: 100\n",
            "UAS = 100\n"
          ]
        }
      ]
    },
    {
      "cell_type": "code",
      "source": [],
      "metadata": {
        "id": "GjHiPLjDz-9P"
      },
      "execution_count": null,
      "outputs": []
    },
    {
      "cell_type": "code",
      "source": [
        "  while True:\n",
        "    username = input(\"Masukkan username anda : \")\n",
        "    password = input(\"Masukkan password anda : \")\n",
        "    if password == \"Admin123\" :\n",
        "      print(\"Login Berhasil, Selamat datang\", username)\n",
        "      print(\"\\n\")\n",
        "      break\n",
        "    else :\n",
        "      print(\"Password salah, coba lagi\")\n",
        "    print(\"\\n\")\n",
        "  name = input(\"Masukkan nama siswa : \")\n",
        "  uas = float(input(\"Masukkan Nilai UAS : \"))\n",
        "  uts = float(input(\"Masukkan Nilai UTS : \"))\n",
        "  asg = float(input(\"Masukkan Nilai Assignment : \"))\n",
        "  print(\"\\n\")\n",
        "\n",
        "  final = uas * 0.5 + uts * 0.3 + asg * 0.2\n",
        "\n",
        "  print(\"===================================\")\n",
        "  print(\"Hasil perolehan nilai\", name)\n",
        "  print(\"Final Score: \", final)\n",
        "  if 90 <= final <= 100 :\n",
        "    grade = 'A'\n",
        "  elif 85 <= final < 90 :\n",
        "    grade = 'A-'\n",
        "  elif 80 <= final < 85 :\n",
        "    grade = 'B+'\n",
        "  elif 75 <= final < 80 :\n",
        "    grade = 'B'\n",
        "  elif 70 <= final < 75 :\n",
        "    grade = 'B-'\n",
        "  elif 65 <= final < 70 :\n",
        "    grade = 'C'\n",
        "  elif 60 <= final < 65 :\n",
        "    grade = 'D'\n",
        "  elif 11 <= final < 60 :\n",
        "    grade = 'E'\n",
        "  elif final == 0 :\n",
        "    grade = 'F'\n",
        "  else :\n",
        "    grade = \"Nilai tidak valid\"\n",
        "print(\"Grade:\", grade)"
      ],
      "metadata": {
        "colab": {
          "base_uri": "https://localhost:8080/"
        },
        "id": "KBPAbTvkzq-a",
        "outputId": "b1eaf14e-f04d-48f5-b9a0-c0e7cd67dfed"
      },
      "execution_count": null,
      "outputs": [
        {
          "output_type": "stream",
          "name": "stdout",
          "text": [
            "Masukkan username anda : Ailie\n",
            "Masukkan password anda : admin123\n",
            "Password salah, coba lagi\n",
            "\n",
            "\n",
            "Masukkan username anda : Ailie\n",
            "Masukkan password anda : Admin123\n",
            "Login Berhasil, Selamat datang Ailie\n",
            "\n",
            "\n",
            "Masukkan nama siswa : Reynard\n",
            "Masukkan Nilai UAS : 100\n",
            "Masukkan Nilai UTS : 0\n",
            "Masukkan Nilai Assignment : 100\n",
            "\n",
            "\n",
            "===================================\n",
            "Hasil perolehan nilai Reynard\n",
            "Final Score:  70.0\n",
            "Grade: B-\n"
          ]
        }
      ]
    },
    {
      "cell_type": "markdown",
      "source": [
        "# Pertemuan 2\n"
      ],
      "metadata": {
        "id": "LLD1KYZaszbG"
      }
    },
    {
      "cell_type": "markdown",
      "source": [
        "## Materi - Gauss eigel"
      ],
      "metadata": {
        "id": "4rHZU5OetCGj"
      }
    },
    {
      "cell_type": "code",
      "source": [
        "#memanggil library numpy dengan alias np\n",
        "import numpy as np\n",
        "\n",
        "a = [\n",
        "    [8, 3, -3],\n",
        "    [-2, -8, 5],\n",
        "    [3, 5, 10]\n",
        "]\n",
        "\n",
        "diag = np.diag(np.abs(a))\n",
        "\n",
        "off_diag = np.sum(np.abs(a), axis = 1) - diag\n",
        "\n",
        "if np.all(diag > off_diag):\n",
        "  print(\"matrix is diagonally dominant\")\n",
        "else:\n",
        "  print(\"not diagonally dominant\")"
      ],
      "metadata": {
        "colab": {
          "base_uri": "https://localhost:8080/"
        },
        "id": "yMFT_VeJtXlE",
        "outputId": "8936242d-6160-4aea-e6bf-16db1e0b5de9"
      },
      "execution_count": null,
      "outputs": [
        {
          "output_type": "stream",
          "name": "stdout",
          "text": [
            "matrix is diagonally dominant\n"
          ]
        }
      ]
    },
    {
      "cell_type": "markdown",
      "source": [
        "mengecek tiap diagonal dari matrix (8, -8, dan 10)\n",
        "\n",
        "dilakukan 3 kali pengecekan\n",
        "|8| > |3| + |-3|\n",
        "|-8| > |-2| + |5|\n",
        "|10| > |3| + |5|\n",
        "\n",
        "apabila ketiganya benar, maka diagonal bersifat dominant."
      ],
      "metadata": {
        "id": "Lae1eNXmu3qk"
      }
    },
    {
      "cell_type": "code",
      "source": [
        "x1 = 0\n",
        "x2 = 0\n",
        "x3 = 0\n",
        "epsilon = 0.01\n",
        "converged = False\n",
        "\n",
        "x_old = np.array([x1, x2, x3])"
      ],
      "metadata": {
        "id": "nBSJOVMSvfsi"
      },
      "execution_count": null,
      "outputs": []
    },
    {
      "cell_type": "code",
      "source": [
        "print(\"iteration result\")\n",
        "print(\" k, x1, x2, x3\")\n",
        "for k in range(1, 50):\n",
        "  x1 = (14 - 3*x2 + 3*x3) / 8\n",
        "  x2 = (5 + 2*x1 - 5*x3) / (-8)\n",
        "  x3 = (-8 - 3*x1 - 5*x2) / 10\n",
        "\n",
        "  x = np.array([x1, x2, x3])\n",
        "\n",
        "  dx = np.sqrt(np.dot(x-x_old, x-x_old))\n",
        "\n",
        "  print(\"%d, %.4f, %.4f, %.4f\"%(k, x1, x2, x3))\n",
        "\n",
        "  if dx < epsilon:\n",
        "    converged = True\n",
        "    print(\"Converged\")\n",
        "    break\n",
        "\n",
        "  x_old = x\n",
        "\n",
        "if not converged:\n",
        "  print(\"not converged, increase the number of iterations\")"
      ],
      "metadata": {
        "colab": {
          "base_uri": "https://localhost:8080/"
        },
        "id": "oMNUkfC0v-Rw",
        "outputId": "ce1827e8-8094-4c3c-f18b-11a1fc566b8b"
      },
      "execution_count": null,
      "outputs": [
        {
          "output_type": "stream",
          "name": "stdout",
          "text": [
            "iteration result\n",
            " k, x1, x2, x3\n",
            "1, 2.0878, -1.5540, -0.6493\n",
            "Converged\n"
          ]
        }
      ]
    },
    {
      "cell_type": "code",
      "source": [
        "#punya agnes\n",
        "\n",
        "print (\"iteration result\")\n",
        "print (\"k, x1, x2, x3\")\n",
        "\n",
        "for k in range(1, 50) :\n",
        "  x1 = (14 - 3*x2 + 3*x3) / 8\n",
        "  x2 = (5 + 2*x1 - 5*x3) / (-8)\n",
        "  x3 = (-8 - 3*x1 - 5*x2) / (10)\n",
        "  #variabel buat simpen array\n",
        "  x = np.array([x1, x2, x3])\n",
        "\n",
        "  #cek stopping criteria\n",
        "  dx = np.sqrt(np.dot(x-x_old, x-x_old))\n",
        "\n",
        "  #buat variabel baru\n",
        "\n",
        "  print (\"%d, %.4f, %.4f, %.4f\"%(k, x1, x2, x3))\n",
        "\n",
        "  if dx < epsilon:\n",
        "    converged = True\n",
        "    print (\"converged\")\n",
        "    break\n",
        "\n",
        "  x_old = X\n",
        "\n",
        "if not converged :\n",
        "  print (\"not converged, increase the number of iteration\")"
      ],
      "metadata": {
        "colab": {
          "base_uri": "https://localhost:8080/"
        },
        "id": "CiUsPva32kB0",
        "outputId": "8cf95c40-19b4-4fac-a183-8c88d350244b"
      },
      "execution_count": null,
      "outputs": [
        {
          "output_type": "stream",
          "name": "stdout",
          "text": [
            "iteration result\n",
            "k, x1, x2, x3\n",
            "1, 2.0889, -1.5534, -0.6500\n",
            "converged\n"
          ]
        }
      ]
    },
    {
      "cell_type": "markdown",
      "source": [
        "## Tugas Modul - System of Linear Equation and Regression"
      ],
      "metadata": {
        "id": "xzsl2H-ri7P5"
      }
    },
    {
      "cell_type": "code",
      "source": [
        "import numpy as np\n",
        "\n",
        "def gauss_seidel(A, B, x0, tol=0.001, max_iter=100):\n",
        "    n = len(B)\n",
        "    x = x0.copy()\n",
        "\n",
        "    for _ in range(max_iter):\n",
        "        x_new = x.copy()\n",
        "        for i in range(n):\n",
        "            sigma = sum(A[i][j] * x_new[j] for j in range(n) if j != i)\n",
        "            x_new[i] = (B[i] - sigma) / A[i][i]\n",
        "\n",
        "        # Cek konvergensi\n",
        "        if np.linalg.norm(np.array(x_new) - np.array(x), ord=np.inf) < tol:\n",
        "            return x_new\n",
        "        x = x_new\n",
        "\n",
        "    return x  # Jika iterasi habis\n",
        "\n",
        "# Contoh 1:\n",
        "A1 = np.array([[2, 3, -1], [1, -1, 2], [3, 2, 1]])\n",
        "B1 = np.array([10, 4, 14])\n",
        "x0_1 = [5, 5, 5]\n",
        "\n",
        "solusi_1 = gauss_seidel(A1, B1, x0_1)\n",
        "print(\"Solusi sistem 1 dengan Gauss-Seidel:\", solusi_1)\n",
        "\n",
        "# Contoh 2:\n",
        "A2 = np.array([[3, -0.1, -0.2], [0.1, 7, -0.3], [0.3, -0.2, 10]])\n",
        "B2 = np.array([7.85, -19.3, 71.4])\n",
        "x0_2 = [1, 2, 3]\n",
        "\n",
        "solusi_2 = gauss_seidel(A2, B2, x0_2)\n",
        "print(\"Solusi sistem 2 dengan Gauss-Seidel:\", solusi_2)\n"
      ],
      "metadata": {
        "colab": {
          "base_uri": "https://localhost:8080/"
        },
        "id": "uYcbJVlIjMKG",
        "outputId": "2dc14ee9-7a11-4c5b-cbd8-803b8b369bff"
      },
      "execution_count": 1,
      "outputs": [
        {
          "output_type": "stream",
          "name": "stdout",
          "text": [
            "Solusi sistem 1 dengan Gauss-Seidel: [-8.853799629195825e+93, -2.6561398887587476e+94, 7.968419666276243e+94]\n",
            "Solusi sistem 2 dengan Gauss-Seidel: [3.000000218861564, -2.5000000153419513, 6.999999993127315]\n"
          ]
        }
      ]
    },
    {
      "cell_type": "code",
      "source": [
        "solusi_numpy_1 = np.linalg.solve(A1, B1)\n",
        "print(\"Solusi sistem 1 dengan NumPy:\", solusi_numpy_1)\n",
        "\n",
        "solusi_numpy_2 = np.linalg.solve(A2, B2)\n",
        "print(\"Solusi sistem 2 dengan NumPy:\", solusi_numpy_2)\n"
      ],
      "metadata": {
        "colab": {
          "base_uri": "https://localhost:8080/"
        },
        "id": "Qvp_Oj-1rcWO",
        "outputId": "598e584c-167e-4385-85e6-a605aaa187d4"
      },
      "execution_count": 2,
      "outputs": [
        {
          "output_type": "stream",
          "name": "stdout",
          "text": [
            "Solusi sistem 1 dengan NumPy: [0.65 4.15 3.75]\n",
            "Solusi sistem 2 dengan NumPy: [ 3.  -2.5  7. ]\n"
          ]
        }
      ]
    },
    {
      "cell_type": "code",
      "source": [
        "import matplotlib.pyplot as plt\n",
        "\n",
        "# Data diberikan\n",
        "X = np.array([5, 4, 6, 7, 5])\n",
        "Y = np.array([10, 8, 12, 14, 10])\n",
        "\n",
        "# Menghitung parameter regresi (a dan b)\n",
        "n = len(X)\n",
        "sum_x = np.sum(X)\n",
        "sum_y = np.sum(Y)\n",
        "sum_xy = np.sum(X * Y)\n",
        "sum_x2 = np.sum(X ** 2)\n",
        "\n",
        "# Rumus Least Square Method\n",
        "a = (n * sum_xy - sum_x * sum_y) / (n * sum_x2 - sum_x ** 2)\n",
        "b = (sum_y - a * sum_x) / n\n",
        "\n",
        "print(f\"Persamaan regresi: y = {a:.2f}x + {b:.2f}\")\n",
        "\n",
        "# Plot hasil regresi\n",
        "plt.scatter(X, Y, color='blue', label=\"Data Asli\")\n",
        "plt.plot(X, a * X + b, color='red', label=f\"Regresi: y = {a:.2f}x + {b:.2f}\")\n",
        "\n",
        "plt.xlabel(\"X\")\n",
        "plt.ylabel(\"Y\")\n",
        "plt.legend()\n",
        "plt.grid()\n",
        "plt.show()\n"
      ],
      "metadata": {
        "colab": {
          "base_uri": "https://localhost:8080/",
          "height": 466
        },
        "id": "X3aV8oRxrd9u",
        "outputId": "dbe65c51-3de6-4e48-d3e6-abf1a2d521f1"
      },
      "execution_count": 3,
      "outputs": [
        {
          "output_type": "stream",
          "name": "stdout",
          "text": [
            "Persamaan regresi: y = 2.00x + 0.00\n"
          ]
        },
        {
          "output_type": "display_data",
          "data": {
            "text/plain": [
              "<Figure size 640x480 with 1 Axes>"
            ],
            "image/png": "[encoded data removed]"
          },
          "metadata": {}
        }
      ]
    }
  ]
}